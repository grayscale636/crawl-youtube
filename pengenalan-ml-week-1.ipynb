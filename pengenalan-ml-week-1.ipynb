{
 "cells": [
  {
   "cell_type": "code",
   "execution_count": 1,
   "id": "5f68006c",
   "metadata": {
    "_cell_guid": "b1076dfc-b9ad-4769-8c92-a6c4dae69d19",
    "_uuid": "8f2839f25d086af736a60e9eeb907d3b93b6e0e5",
    "execution": {
     "iopub.execute_input": "2023-03-17T03:43:07.170309Z",
     "iopub.status.busy": "2023-03-17T03:43:07.169932Z",
     "iopub.status.idle": "2023-03-17T03:43:07.187157Z",
     "shell.execute_reply": "2023-03-17T03:43:07.185717Z"
    },
    "papermill": {
     "duration": 0.027964,
     "end_time": "2023-03-17T03:43:07.190301",
     "exception": false,
     "start_time": "2023-03-17T03:43:07.162337",
     "status": "completed"
    },
    "tags": []
   },
   "outputs": [
    {
     "name": "stdout",
     "output_type": "stream",
     "text": [
      "/kaggle/input/tab-dataset/Tab.csv\n"
     ]
    }
   ],
   "source": [
    "# This Python 3 environment comes with many helpful analytics libraries installed\n",
    "# It is defined by the kaggle/python Docker image: https://github.com/kaggle/docker-python\n",
    "# For example, here's several helpful packages to load\n",
    "\n",
    "import numpy as np # linear algebra\n",
    "import pandas as pd # data processing, CSV file I/O (e.g. pd.read_csv)\n",
    "\n",
    "# Input data files are available in the read-only \"../input/\" directory\n",
    "# For example, running this (by clicking run or pressing Shift+Enter) will list all files under the input directory\n",
    "\n",
    "import os\n",
    "for dirname, _, filenames in os.walk('/kaggle/input'):\n",
    "    for filename in filenames:\n",
    "        print(os.path.join(dirname, filename))\n",
    "\n",
    "# You can write up to 20GB to the current directory (/kaggle/working/) that gets preserved as output when you create a version using \"Save & Run All\" \n",
    "# You can also write temporary files to /kaggle/temp/, but they won't be saved outside of the current session"
   ]
  },
  {
   "cell_type": "markdown",
   "id": "4f8e8208",
   "metadata": {
    "papermill": {
     "duration": 0.004127,
     "end_time": "2023-03-17T03:43:07.199152",
     "exception": false,
     "start_time": "2023-03-17T03:43:07.195025",
     "status": "completed"
    },
    "tags": []
   },
   "source": [
    "**PANDAS**"
   ]
  },
  {
   "cell_type": "code",
   "execution_count": 2,
   "id": "d7d14417",
   "metadata": {
    "execution": {
     "iopub.execute_input": "2023-03-17T03:43:07.209715Z",
     "iopub.status.busy": "2023-03-17T03:43:07.209261Z",
     "iopub.status.idle": "2023-03-17T03:43:07.214849Z",
     "shell.execute_reply": "2023-03-17T03:43:07.213664Z"
    },
    "papermill": {
     "duration": 0.013631,
     "end_time": "2023-03-17T03:43:07.217130",
     "exception": false,
     "start_time": "2023-03-17T03:43:07.203499",
     "status": "completed"
    },
    "tags": []
   },
   "outputs": [],
   "source": [
    "import numpy as np\n",
    "\n",
    "np_height = np.array(([1, 2, 3, 4, 5]))\n",
    "np_weight = np.array(([4, 2, 1, 4, 5]))"
   ]
  },
  {
   "cell_type": "code",
   "execution_count": 3,
   "id": "429d2b4a",
   "metadata": {
    "execution": {
     "iopub.execute_input": "2023-03-17T03:43:07.227570Z",
     "iopub.status.busy": "2023-03-17T03:43:07.227205Z",
     "iopub.status.idle": "2023-03-17T03:43:07.235101Z",
     "shell.execute_reply": "2023-03-17T03:43:07.233841Z"
    },
    "papermill": {
     "duration": 0.015974,
     "end_time": "2023-03-17T03:43:07.237532",
     "exception": false,
     "start_time": "2023-03-17T03:43:07.221558",
     "status": "completed"
    },
    "tags": []
   },
   "outputs": [
    {
     "data": {
      "text/plain": [
       "numpy.ndarray"
      ]
     },
     "execution_count": 3,
     "metadata": {},
     "output_type": "execute_result"
    }
   ],
   "source": [
    "type(np_height)"
   ]
  },
  {
   "cell_type": "code",
   "execution_count": 4,
   "id": "ed0ae033",
   "metadata": {
    "execution": {
     "iopub.execute_input": "2023-03-17T03:43:07.248383Z",
     "iopub.status.busy": "2023-03-17T03:43:07.248010Z",
     "iopub.status.idle": "2023-03-17T03:43:07.257221Z",
     "shell.execute_reply": "2023-03-17T03:43:07.256011Z"
    },
    "papermill": {
     "duration": 0.017589,
     "end_time": "2023-03-17T03:43:07.259757",
     "exception": false,
     "start_time": "2023-03-17T03:43:07.242168",
     "status": "completed"
    },
    "tags": []
   },
   "outputs": [
    {
     "data": {
      "text/plain": [
       "array([[ 1,  2,  3,  4,  5],\n",
       "       [ 6,  7,  8,  9, 10]])"
      ]
     },
     "execution_count": 4,
     "metadata": {},
     "output_type": "execute_result"
    }
   ],
   "source": [
    "np_2d = np.array([[1, 2, 3, 4, 5],\n",
    "                 [6, 7, 8, 9, 10]])\n",
    "np_2d"
   ]
  },
  {
   "cell_type": "code",
   "execution_count": 5,
   "id": "176ca759",
   "metadata": {
    "execution": {
     "iopub.execute_input": "2023-03-17T03:43:07.270587Z",
     "iopub.status.busy": "2023-03-17T03:43:07.270198Z",
     "iopub.status.idle": "2023-03-17T03:43:07.277234Z",
     "shell.execute_reply": "2023-03-17T03:43:07.276157Z"
    },
    "papermill": {
     "duration": 0.015312,
     "end_time": "2023-03-17T03:43:07.279588",
     "exception": false,
     "start_time": "2023-03-17T03:43:07.264276",
     "status": "completed"
    },
    "tags": []
   },
   "outputs": [
    {
     "data": {
      "text/plain": [
       "numpy.ndarray"
      ]
     },
     "execution_count": 5,
     "metadata": {},
     "output_type": "execute_result"
    }
   ],
   "source": [
    "type(np_2d)"
   ]
  },
  {
   "cell_type": "markdown",
   "id": "d98a6cd2",
   "metadata": {
    "papermill": {
     "duration": 0.004435,
     "end_time": "2023-03-17T03:43:07.288630",
     "exception": false,
     "start_time": "2023-03-17T03:43:07.284195",
     "status": "completed"
    },
    "tags": []
   },
   "source": [
    "**PANDAS**"
   ]
  },
  {
   "cell_type": "code",
   "execution_count": 6,
   "id": "a1922982",
   "metadata": {
    "execution": {
     "iopub.execute_input": "2023-03-17T03:43:07.299817Z",
     "iopub.status.busy": "2023-03-17T03:43:07.299442Z",
     "iopub.status.idle": "2023-03-17T03:43:07.304205Z",
     "shell.execute_reply": "2023-03-17T03:43:07.303061Z"
    },
    "papermill": {
     "duration": 0.013333,
     "end_time": "2023-03-17T03:43:07.306546",
     "exception": false,
     "start_time": "2023-03-17T03:43:07.293213",
     "status": "completed"
    },
    "tags": []
   },
   "outputs": [],
   "source": [
    "import pandas as pd"
   ]
  },
  {
   "cell_type": "code",
   "execution_count": 7,
   "id": "ee7ee9f5",
   "metadata": {
    "execution": {
     "iopub.execute_input": "2023-03-17T03:43:07.317857Z",
     "iopub.status.busy": "2023-03-17T03:43:07.317505Z",
     "iopub.status.idle": "2023-03-17T03:43:07.324006Z",
     "shell.execute_reply": "2023-03-17T03:43:07.323131Z"
    },
    "papermill": {
     "duration": 0.014724,
     "end_time": "2023-03-17T03:43:07.326059",
     "exception": false,
     "start_time": "2023-03-17T03:43:07.311335",
     "status": "completed"
    },
    "tags": []
   },
   "outputs": [
    {
     "data": {
      "text/plain": [
       "array([[1, 2],\n",
       "       [3, 4]])"
      ]
     },
     "execution_count": 7,
     "metadata": {},
     "output_type": "execute_result"
    }
   ],
   "source": [
    "# dataframe -> data yang berbentuk 2 dimensi atau lebih\n",
    "np.array([[1, 2], [3, 4]])"
   ]
  },
  {
   "cell_type": "code",
   "execution_count": 8,
   "id": "15955d79",
   "metadata": {
    "execution": {
     "iopub.execute_input": "2023-03-17T03:43:07.337618Z",
     "iopub.status.busy": "2023-03-17T03:43:07.337119Z",
     "iopub.status.idle": "2023-03-17T03:43:07.370084Z",
     "shell.execute_reply": "2023-03-17T03:43:07.368877Z"
    },
    "papermill": {
     "duration": 0.041586,
     "end_time": "2023-03-17T03:43:07.372604",
     "exception": false,
     "start_time": "2023-03-17T03:43:07.331018",
     "status": "completed"
    },
    "tags": []
   },
   "outputs": [
    {
     "data": {
      "text/html": [
       "<div>\n",
       "<style scoped>\n",
       "    .dataframe tbody tr th:only-of-type {\n",
       "        vertical-align: middle;\n",
       "    }\n",
       "\n",
       "    .dataframe tbody tr th {\n",
       "        vertical-align: top;\n",
       "    }\n",
       "\n",
       "    .dataframe thead th {\n",
       "        text-align: right;\n",
       "    }\n",
       "</style>\n",
       "<table border=\"1\" class=\"dataframe\">\n",
       "  <thead>\n",
       "    <tr style=\"text-align: right;\">\n",
       "      <th></th>\n",
       "      <th>Unnamed: 0</th>\n",
       "      <th>Negara</th>\n",
       "      <th>Populasi</th>\n",
       "      <th>Area</th>\n",
       "      <th>Ibukota</th>\n",
       "    </tr>\n",
       "  </thead>\n",
       "  <tbody>\n",
       "    <tr>\n",
       "      <th>0</th>\n",
       "      <td>IN</td>\n",
       "      <td>Indonesia</td>\n",
       "      <td>250</td>\n",
       "      <td>123456</td>\n",
       "      <td>Jakarta</td>\n",
       "    </tr>\n",
       "    <tr>\n",
       "      <th>1</th>\n",
       "      <td>MA</td>\n",
       "      <td>Malaysia</td>\n",
       "      <td>25</td>\n",
       "      <td>3456</td>\n",
       "      <td>KL</td>\n",
       "    </tr>\n",
       "    <tr>\n",
       "      <th>2</th>\n",
       "      <td>SI</td>\n",
       "      <td>Singapura</td>\n",
       "      <td>15</td>\n",
       "      <td>456</td>\n",
       "      <td>Singapura</td>\n",
       "    </tr>\n",
       "    <tr>\n",
       "      <th>3</th>\n",
       "      <td>JP</td>\n",
       "      <td>Jepang</td>\n",
       "      <td>60</td>\n",
       "      <td>5678</td>\n",
       "      <td>Tokyo</td>\n",
       "    </tr>\n",
       "    <tr>\n",
       "      <th>4</th>\n",
       "      <td>TH</td>\n",
       "      <td>Thailand</td>\n",
       "      <td>45</td>\n",
       "      <td>678</td>\n",
       "      <td>Bangkok</td>\n",
       "    </tr>\n",
       "  </tbody>\n",
       "</table>\n",
       "</div>"
      ],
      "text/plain": [
       "  Unnamed: 0     Negara  Populasi    Area    Ibukota\n",
       "0         IN  Indonesia       250  123456    Jakarta\n",
       "1         MA   Malaysia        25    3456         KL\n",
       "2         SI  Singapura        15     456  Singapura\n",
       "3         JP     Jepang        60    5678      Tokyo\n",
       "4         TH   Thailand        45     678    Bangkok"
      ]
     },
     "execution_count": 8,
     "metadata": {},
     "output_type": "execute_result"
    }
   ],
   "source": [
    "df = pd.read_csv('/kaggle/input/tab-dataset/Tab.csv')\n",
    "df"
   ]
  },
  {
   "cell_type": "code",
   "execution_count": 9,
   "id": "02e0a1c7",
   "metadata": {
    "execution": {
     "iopub.execute_input": "2023-03-17T03:43:07.384460Z",
     "iopub.status.busy": "2023-03-17T03:43:07.383846Z",
     "iopub.status.idle": "2023-03-17T03:43:07.394974Z",
     "shell.execute_reply": "2023-03-17T03:43:07.393902Z"
    },
    "papermill": {
     "duration": 0.019567,
     "end_time": "2023-03-17T03:43:07.397343",
     "exception": false,
     "start_time": "2023-03-17T03:43:07.377776",
     "status": "completed"
    },
    "tags": []
   },
   "outputs": [
    {
     "data": {
      "text/plain": [
       "0    Indonesia\n",
       "1     Malaysia\n",
       "2    Singapura\n",
       "3       Jepang\n",
       "4     Thailand\n",
       "Name: Negara, dtype: object"
      ]
     },
     "execution_count": 9,
     "metadata": {},
     "output_type": "execute_result"
    }
   ],
   "source": [
    "df['Negara']"
   ]
  },
  {
   "cell_type": "code",
   "execution_count": 10,
   "id": "89c34faf",
   "metadata": {
    "execution": {
     "iopub.execute_input": "2023-03-17T03:43:07.409492Z",
     "iopub.status.busy": "2023-03-17T03:43:07.408964Z",
     "iopub.status.idle": "2023-03-17T03:43:07.417286Z",
     "shell.execute_reply": "2023-03-17T03:43:07.416082Z"
    },
    "papermill": {
     "duration": 0.016917,
     "end_time": "2023-03-17T03:43:07.419629",
     "exception": false,
     "start_time": "2023-03-17T03:43:07.402712",
     "status": "completed"
    },
    "tags": []
   },
   "outputs": [
    {
     "data": {
      "text/plain": [
       "0      Jakarta\n",
       "1           KL\n",
       "2    Singapura\n",
       "3        Tokyo\n",
       "4      Bangkok\n",
       "Name: Ibukota, dtype: object"
      ]
     },
     "execution_count": 10,
     "metadata": {},
     "output_type": "execute_result"
    }
   ],
   "source": [
    "Tab = df\n",
    "Tab.Ibukota"
   ]
  },
  {
   "cell_type": "markdown",
   "id": "c4a6736d",
   "metadata": {
    "papermill": {
     "duration": 0.00486,
     "end_time": "2023-03-17T03:43:07.429724",
     "exception": false,
     "start_time": "2023-03-17T03:43:07.424864",
     "status": "completed"
    },
    "tags": []
   },
   "source": [
    "**MATPLOTLIB**"
   ]
  },
  {
   "cell_type": "code",
   "execution_count": 11,
   "id": "95f45d7e",
   "metadata": {
    "execution": {
     "iopub.execute_input": "2023-03-17T03:43:07.442192Z",
     "iopub.status.busy": "2023-03-17T03:43:07.441358Z",
     "iopub.status.idle": "2023-03-17T03:43:07.446425Z",
     "shell.execute_reply": "2023-03-17T03:43:07.445631Z"
    },
    "papermill": {
     "duration": 0.013706,
     "end_time": "2023-03-17T03:43:07.448485",
     "exception": false,
     "start_time": "2023-03-17T03:43:07.434779",
     "status": "completed"
    },
    "tags": []
   },
   "outputs": [],
   "source": [
    "import matplotlib.pyplot as plt"
   ]
  },
  {
   "cell_type": "code",
   "execution_count": 12,
   "id": "0d4dffda",
   "metadata": {
    "execution": {
     "iopub.execute_input": "2023-03-17T03:43:07.460674Z",
     "iopub.status.busy": "2023-03-17T03:43:07.459921Z",
     "iopub.status.idle": "2023-03-17T03:43:07.721789Z",
     "shell.execute_reply": "2023-03-17T03:43:07.720351Z"
    },
    "papermill": {
     "duration": 0.270534,
     "end_time": "2023-03-17T03:43:07.724246",
     "exception": false,
     "start_time": "2023-03-17T03:43:07.453712",
     "status": "completed"
    },
    "tags": []
   },
   "outputs": [
    {
     "data": {
      "text/plain": [
       "<function matplotlib.pyplot.show(close=None, block=None)>"
      ]
     },
     "execution_count": 12,
     "metadata": {},
     "output_type": "execute_result"
    },
    {
     "data": {
      "image/png": "[encoded data removed]",
      "text/plain": [
       "<Figure size 640x480 with 1 Axes>"
      ]
     },
     "metadata": {},
     "output_type": "display_data"
    }
   ],
   "source": [
    "year = [1980, 1990, 2000, 2010, 2020, 2025, 2030]\n",
    "price = [2.5, 3.3, 7.5, 11.8, 12.5, 22.5, 4.3]\n",
    "plt.plot(year, price)\n",
    "plt.show"
   ]
  },
  {
   "cell_type": "code",
   "execution_count": 13,
   "id": "55bc3570",
   "metadata": {
    "execution": {
     "iopub.execute_input": "2023-03-17T03:43:07.739244Z",
     "iopub.status.busy": "2023-03-17T03:43:07.738280Z",
     "iopub.status.idle": "2023-03-17T03:43:07.980551Z",
     "shell.execute_reply": "2023-03-17T03:43:07.979286Z"
    },
    "papermill": {
     "duration": 0.25183,
     "end_time": "2023-03-17T03:43:07.983184",
     "exception": false,
     "start_time": "2023-03-17T03:43:07.731354",
     "status": "completed"
    },
    "tags": []
   },
   "outputs": [
    {
     "data": {
      "text/plain": [
       "<BarContainer object of 7 artists>"
      ]
     },
     "execution_count": 13,
     "metadata": {},
     "output_type": "execute_result"
    },
    {
     "data": {
      "image/png": "[encoded data removed]",
      "text/plain": [
       "<Figure size 640x480 with 1 Axes>"
      ]
     },
     "metadata": {},
     "output_type": "display_data"
    }
   ],
   "source": [
    "plt.bar(year, price)"
   ]
  },
  {
   "cell_type": "code",
   "execution_count": null,
   "id": "661a46c8",
   "metadata": {
    "papermill": {
     "duration": 0.005832,
     "end_time": "2023-03-17T03:43:07.995193",
     "exception": false,
     "start_time": "2023-03-17T03:43:07.989361",
     "status": "completed"
    },
    "tags": []
   },
   "outputs": [],
   "source": []
  }
 ],
 "metadata": {
  "kernelspec": {
   "display_name": "Python 3",
   "language": "python",
   "name": "python3"
  },
  "language_info": {
   "codemirror_mode": {
    "name": "ipython",
    "version": 3
   },
   "file_extension": ".py",
   "mimetype": "text/x-python",
   "name": "python",
   "nbconvert_exporter": "python",
   "pygments_lexer": "ipython3",
   "version": "3.7.12"
  },
  "papermill": {
   "default_parameters": {},
   "duration": 11.655202,
   "end_time": "2023-03-17T03:43:08.623847",
   "environment_variables": {},
   "exception": null,
   "input_path": "__notebook__.ipynb",
   "output_path": "__notebook__.ipynb",
   "parameters": {},
   "start_time": "2023-03-17T03:42:56.968645",
   "version": "2.4.0"
  }
 },
 "nbformat": 4,
 "nbformat_minor": 5
}
